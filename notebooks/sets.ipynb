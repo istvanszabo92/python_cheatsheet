{
 "metadata": {
  "language_info": {
   "codemirror_mode": {
    "name": "ipython",
    "version": 3
   },
   "file_extension": ".py",
   "mimetype": "text/x-python",
   "name": "python",
   "nbconvert_exporter": "python",
   "pygments_lexer": "ipython3",
   "version": "3.7.6-final"
  },
  "orig_nbformat": 2,
  "kernelspec": {
   "name": "python3",
   "display_name": "Python 3"
  }
 },
 "nbformat": 4,
 "nbformat_minor": 2,
 "cells": [
  {
   "cell_type": "code",
   "execution_count": 24,
   "metadata": {},
   "outputs": [
    {
     "output_type": "execute_result",
     "data": {
      "text/plain": [
       "True"
      ]
     },
     "metadata": {},
     "execution_count": 24
    }
   ],
   "source": [
    "a = {1,2,3,4,5}\n",
    "b = {1,1,2,3,4,5}\n",
    "a == b"
   ]
  },
  {
   "cell_type": "code",
   "execution_count": 30,
   "metadata": {},
   "outputs": [
    {
     "output_type": "stream",
     "name": "stdout",
     "text": [
      "True\nFalse\n{1, 2, 3, 4}\n{1, 2, 3, 6}\n{2, 3, 6}\n{2, 3}\n{1, 2, 4, 5}\n{3}\n{1, 2}\nFalse\nTrue\nset()\n"
     ]
    }
   ],
   "source": [
    "c = {1,2,3}\n",
    "d = {1,2,3,4}\n",
    "print(c.issubset(d))                # True\n",
    "print(c.issuperset(d))              # False\n",
    "print(c.union(d))                   # {1, 2, 3, 4}\n",
    "c.add(6)                \n",
    "print(c)                            # {1, 2, 3, 6}\n",
    "c.remove(1)\n",
    "print(c)                            # {2, 3, 6}\n",
    "print(d.intersection(c))            # {2, 3}\n",
    "A = {1,2,3}\n",
    "B = {3,4,5}\n",
    "print(A.symmetric_difference(B))    # {1, 2, 4, 5}\n",
    "print(A.intersection(B))            # {3}\n",
    "print(A.difference(B))              # {1, 2}\n",
    "print(A.isdisjoint(B))              # False\n",
    "C = {1}\n",
    "D = {2}\n",
    "print(C.isdisjoint(B))              # True\n",
    "print(C.intersection(B))            # {} -> disjoint==True"
   ]
  },
  {
   "cell_type": "code",
   "execution_count": null,
   "metadata": {},
   "outputs": [],
   "source": []
  }
 ]
}